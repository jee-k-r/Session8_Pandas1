{
 "cells": [
  {
   "cell_type": "code",
   "execution_count": null,
   "metadata": {
    "scrolled": true
   },
   "outputs": [],
   "source": [
    "'''\n",
    "1) How-to-count-distance-to-the-previous-zero\n",
    "For each value, count the difference of the distance from the previous zero (or the start\n",
    "of the Series, whichever is closer) and if there are no previous zeros,print the position\n",
    "Consider a DataFrame df where there is an integer column {'X':[7, 2, 0, 3, 4, 2, 5, 0, 3, 4]}\n",
    "The values should therefore be [1, 2, 0, 1, 2, 3, 4, 0, 1, 2]. Make this a new column 'Y'.\n",
    "import pandas as pd\n",
    "df = pd.DataFrame({'X': [7, 2, 0, 3, 4, 2, 5, 0, 3, 4]})\n",
    "2) Create a DatetimeIndex that contains each business day of 2015 and use it to index a\n",
    "Series of random numbers.\n",
    "3) Find the sum of the values in s for every Wednesday\n",
    "4) Average For each calendar month\n",
    "5) For each group of four consecutive calendar months in s, find the date on which the\n",
    "highest value occurred.\n",
    "\n",
    "'''"
   ]
  },
  {
   "cell_type": "code",
   "execution_count": 8,
   "metadata": {},
   "outputs": [
    {
     "data": {
      "text/html": [
       "<div>\n",
       "<style scoped>\n",
       "    .dataframe tbody tr th:only-of-type {\n",
       "        vertical-align: middle;\n",
       "    }\n",
       "\n",
       "    .dataframe tbody tr th {\n",
       "        vertical-align: top;\n",
       "    }\n",
       "\n",
       "    .dataframe thead th {\n",
       "        text-align: right;\n",
       "    }\n",
       "</style>\n",
       "<table border=\"1\" class=\"dataframe\">\n",
       "  <thead>\n",
       "    <tr style=\"text-align: right;\">\n",
       "      <th></th>\n",
       "      <th>X</th>\n",
       "      <th>Y</th>\n",
       "    </tr>\n",
       "  </thead>\n",
       "  <tbody>\n",
       "    <tr>\n",
       "      <th>0</th>\n",
       "      <td>7</td>\n",
       "      <td>1</td>\n",
       "    </tr>\n",
       "    <tr>\n",
       "      <th>1</th>\n",
       "      <td>2</td>\n",
       "      <td>2</td>\n",
       "    </tr>\n",
       "    <tr>\n",
       "      <th>2</th>\n",
       "      <td>0</td>\n",
       "      <td>0</td>\n",
       "    </tr>\n",
       "    <tr>\n",
       "      <th>3</th>\n",
       "      <td>3</td>\n",
       "      <td>1</td>\n",
       "    </tr>\n",
       "    <tr>\n",
       "      <th>4</th>\n",
       "      <td>4</td>\n",
       "      <td>2</td>\n",
       "    </tr>\n",
       "    <tr>\n",
       "      <th>5</th>\n",
       "      <td>2</td>\n",
       "      <td>3</td>\n",
       "    </tr>\n",
       "    <tr>\n",
       "      <th>6</th>\n",
       "      <td>5</td>\n",
       "      <td>4</td>\n",
       "    </tr>\n",
       "    <tr>\n",
       "      <th>7</th>\n",
       "      <td>0</td>\n",
       "      <td>0</td>\n",
       "    </tr>\n",
       "    <tr>\n",
       "      <th>8</th>\n",
       "      <td>3</td>\n",
       "      <td>1</td>\n",
       "    </tr>\n",
       "    <tr>\n",
       "      <th>9</th>\n",
       "      <td>4</td>\n",
       "      <td>2</td>\n",
       "    </tr>\n",
       "  </tbody>\n",
       "</table>\n",
       "</div>"
      ],
      "text/plain": [
       "   X  Y\n",
       "0  7  1\n",
       "1  2  2\n",
       "2  0  0\n",
       "3  3  1\n",
       "4  4  2\n",
       "5  2  3\n",
       "6  5  4\n",
       "7  0  0\n",
       "8  3  1\n",
       "9  4  2"
      ]
     },
     "execution_count": 8,
     "metadata": {},
     "output_type": "execute_result"
    }
   ],
   "source": [
    "#Best solution for problem 1\n",
    "import pandas as pd\n",
    "import numpy as np\n",
    "df = pd.DataFrame({'X': [7, 2, 0, 3, 4, 2, 5, 0, 3, 4]})\n",
    "\n",
    "x = (df['X'] != 0).cumsum()\n",
    "\n",
    "y = x != x.shift()\n",
    "\n",
    "y = y.astype(np.int32)\n",
    "\n",
    "df['Y'] = y.groupby((y != y.shift()).cumsum()).cumsum()\n",
    "df.head(10)"
   ]
  },
  {
   "cell_type": "code",
   "execution_count": null,
   "metadata": {},
   "outputs": [],
   "source": [
    "'''\n",
    "2) Create a DatetimeIndex that contains each business day of 2015 and use it to index a\n",
    "Series of random numbers.\n",
    "3) Find the sum of the values in s for every Wednesday\n",
    "4) Average For each calendar month\n",
    "5) For each group of four consecutive calendar months in s, find the date on which the\n",
    "highest value occurred.\n",
    "'''"
   ]
  },
  {
   "cell_type": "code",
   "execution_count": 10,
   "metadata": {},
   "outputs": [
    {
     "data": {
      "text/plain": [
       "2015-01-01    0.859742\n",
       "2015-01-02    0.182123\n",
       "2015-01-05    0.864965\n",
       "2015-01-06    0.144234\n",
       "2015-01-07    0.736442\n",
       "2015-01-08    0.824176\n",
       "2015-01-09    0.013836\n",
       "2015-01-12    0.856789\n",
       "2015-01-13    0.956558\n",
       "2015-01-14    0.689962\n",
       "2015-01-15    0.858733\n",
       "2015-01-16    0.136383\n",
       "2015-01-19    0.026293\n",
       "2015-01-20    0.843816\n",
       "2015-01-21    0.983893\n",
       "2015-01-22    0.017222\n",
       "2015-01-23    0.878587\n",
       "2015-01-26    0.346550\n",
       "2015-01-27    0.970233\n",
       "2015-01-28    0.171652\n",
       "2015-01-29    0.668633\n",
       "2015-01-30    0.318537\n",
       "2015-02-02    0.385724\n",
       "2015-02-03    0.095622\n",
       "2015-02-04    0.358162\n",
       "2015-02-05    0.741782\n",
       "2015-02-06    0.595227\n",
       "2015-02-09    0.145074\n",
       "2015-02-10    0.908246\n",
       "2015-02-11    0.728113\n",
       "                ...   \n",
       "2015-11-20    0.606471\n",
       "2015-11-23    0.579088\n",
       "2015-11-24    0.769365\n",
       "2015-11-25    0.426938\n",
       "2015-11-26    0.313699\n",
       "2015-11-27    0.001002\n",
       "2015-11-30    0.146335\n",
       "2015-12-01    0.391208\n",
       "2015-12-02    0.749720\n",
       "2015-12-03    0.038591\n",
       "2015-12-04    0.701817\n",
       "2015-12-07    0.127334\n",
       "2015-12-08    0.561207\n",
       "2015-12-09    0.021518\n",
       "2015-12-10    0.354540\n",
       "2015-12-11    0.985812\n",
       "2015-12-14    0.211823\n",
       "2015-12-15    0.840174\n",
       "2015-12-16    0.536363\n",
       "2015-12-17    0.964427\n",
       "2015-12-18    0.072874\n",
       "2015-12-21    0.641486\n",
       "2015-12-22    0.308933\n",
       "2015-12-23    0.925367\n",
       "2015-12-24    0.827549\n",
       "2015-12-25    0.498214\n",
       "2015-12-28    0.764574\n",
       "2015-12-29    0.040217\n",
       "2015-12-30    0.963062\n",
       "2015-12-31    0.661030\n",
       "Freq: B, Length: 261, dtype: float64"
      ]
     },
     "execution_count": 10,
     "metadata": {},
     "output_type": "execute_result"
    }
   ],
   "source": [
    "dti = pd.date_range(start='2015-01-01', end='2015-12-31', freq='B') \n",
    "s = pd.Series(np.random.rand(len(dti)), index=dti)\n",
    "s\n"
   ]
  },
  {
   "cell_type": "code",
   "execution_count": 11,
   "metadata": {},
   "outputs": [
    {
     "data": {
      "text/plain": [
       "26.640681495085133"
      ]
     },
     "execution_count": 11,
     "metadata": {},
     "output_type": "execute_result"
    }
   ],
   "source": [
    "#Find the sum of the values in s for every Wednesday.\n",
    "s[dti.weekday == 2].sum()"
   ]
  },
  {
   "cell_type": "code",
   "execution_count": 12,
   "metadata": {},
   "outputs": [
    {
     "data": {
      "text/plain": [
       "2015-01-31    0.561335\n",
       "2015-02-28    0.496694\n",
       "2015-03-31    0.459680\n",
       "2015-04-30    0.433519\n",
       "2015-05-31    0.582448\n",
       "2015-06-30    0.449288\n",
       "2015-07-31    0.434275\n",
       "2015-08-31    0.572615\n",
       "2015-09-30    0.428014\n",
       "2015-10-31    0.429409\n",
       "2015-11-30    0.565503\n",
       "2015-12-31    0.529906\n",
       "Freq: M, dtype: float64"
      ]
     },
     "execution_count": 12,
     "metadata": {},
     "output_type": "execute_result"
    }
   ],
   "source": [
    "#Average For each calendar month\n",
    "s.resample('M').mean()"
   ]
  },
  {
   "cell_type": "code",
   "execution_count": 13,
   "metadata": {},
   "outputs": [
    {
     "data": {
      "text/plain": [
       "2015-01-31   2015-01-21\n",
       "2015-05-31   2015-03-09\n",
       "2015-09-30   2015-08-06\n",
       "2016-01-31   2015-12-11\n",
       "dtype: datetime64[ns]"
      ]
     },
     "execution_count": 13,
     "metadata": {},
     "output_type": "execute_result"
    }
   ],
   "source": [
    "#For each group of four consecutive calendar months in s, find the date on which the highest value occurred.\n",
    "s.groupby(pd.Grouper(freq='4M')).idxmax()"
   ]
  }
 ],
 "metadata": {
  "kernelspec": {
   "display_name": "Python 3",
   "language": "python",
   "name": "python3"
  },
  "language_info": {
   "codemirror_mode": {
    "name": "ipython",
    "version": 3
   },
   "file_extension": ".py",
   "mimetype": "text/x-python",
   "name": "python",
   "nbconvert_exporter": "python",
   "pygments_lexer": "ipython3",
   "version": "3.7.0"
  }
 },
 "nbformat": 4,
 "nbformat_minor": 2
}
